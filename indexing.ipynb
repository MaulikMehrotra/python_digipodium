{
 "cells": [
  {
   "cell_type": "code",
   "execution_count": 171,
   "metadata": {},
   "outputs": [
    {
     "name": "stdout",
     "output_type": "stream",
     "text": [
      "24\n",
      "chrome\n",
      "['youtube', 'udemy', 'instagram', 'gallery', 'twitter', 'camera', 'voice recorder', 'google', 'spotify', 'chrome', 'contacts', 'keypad', 'snapchat', 'call of duty', 'among us', 'whatsapp', 'telegram', 'amazon', 'calculator', 'alarm', 'setting', 'drive', 'maps', 'teams', 'facebook']\n"
     ]
    }
   ],
   "source": [
    "apps=[\"youtube\",\"udemy\",\"instagram\",\"gallery\",\"twitter\",\"camera\",\"voice recorder\",\"google\",\"spotify\",\"chrome\",\"contacts\",\"keypad\",\"snapchat\",\"call of duty\",\"among us\",\"whatsapp\",\"telegram\",\"amazon\",\"calculator\",\"alarm\",\"setting\",\"drive\",\"maps\",\"teams\"]\n",
    "print(len(apps))\n",
    "print(apps[9])\n",
    "apps.append('facebook')\n",
    "print(apps)"
   ]
  },
  {
   "cell_type": "code",
   "execution_count": 172,
   "metadata": {},
   "outputs": [
    {
     "name": "stdout",
     "output_type": "stream",
     "text": [
      "['photoedit', 'youtube', 'udemy', 'instagram', 'gallery', 'twitter', 'camera', 'voice recorder', 'google', 'spotify', 'chrome', 'contacts', 'keypad', 'snapchat', 'call of duty', 'among us', 'whatsapp', 'telegram', 'amazon', 'calculator', 'alarm', 'setting', 'drive', 'maps', 'teams', 'facebook']\n"
     ]
    }
   ],
   "source": [
    "apps.insert(0,'photoedit')\n",
    "print(apps)"
   ]
  },
  {
   "cell_type": "code",
   "execution_count": 173,
   "metadata": {},
   "outputs": [
    {
     "name": "stdout",
     "output_type": "stream",
     "text": [
      "['p', 'r', 'o', 'g', 'r']\n",
      "['r']\n",
      "[]\n",
      "['o', 'g', 'r']\n",
      "['a', 'm', 'i', 'z']\n",
      "['p', 'r', 'o', 'g', 'r', 'a', 'm', 'i', 'z']\n",
      "['r', 'g', 'a', 'i']\n",
      "['z']\n",
      "['m', 'i']\n",
      "9\n"
     ]
    }
   ],
   "source": [
    "mylist=['p','r','o','g','r','a','m','i','z']\n",
    "print(mylist[0:5])\n",
    "print(mylist[4:5])\n",
    "print(mylist[5:5])\n",
    "print(mylist[2:5])\n",
    "print(mylist[5:])\n",
    "print(mylist[:])\n",
    "print(mylist[1:9:2]) # current wale ko bhi count karenge\n",
    "print(mylist[-1: ])\n",
    "print(mylist[-3:-1])\n",
    "print(len(mylist))"
   ]
  },
  {
   "cell_type": "code",
   "execution_count": 174,
   "metadata": {},
   "outputs": [
    {
     "name": "stdout",
     "output_type": "stream",
     "text": [
      "['youtube', 'udemy', 'instagram', 'gallery', 'twitter', 'camera', 'voice recorder', 'google', 'spotify', 'chrome', 'contacts', 'keypad', 'snapchat', 'call of duty', 'among us', 'whatsapp', 'telegram', 'amazon', 'calculator', 'alarm', 'setting', 'drive', 'maps', 'teams', 'facebook']\n"
     ]
    }
   ],
   "source": [
    "apps.pop(0)\n",
    "print(apps)"
   ]
  },
  {
   "cell_type": "code",
   "execution_count": 175,
   "metadata": {},
   "outputs": [
    {
     "name": "stdout",
     "output_type": "stream",
     "text": [
      "['facebook', 'teams', 'maps', 'drive', 'setting', 'alarm', 'calculator', 'amazon', 'telegram', 'whatsapp', 'among us', 'call of duty', 'snapchat', 'keypad', 'contacts', 'chrome', 'spotify', 'google', 'voice recorder', 'camera', 'twitter', 'gallery', 'instagram', 'udemy', 'youtube']\n"
     ]
    }
   ],
   "source": [
    "apps.reverse()\n",
    "print(apps)"
   ]
  },
  {
   "cell_type": "code",
   "execution_count": 176,
   "metadata": {},
   "outputs": [
    {
     "name": "stdout",
     "output_type": "stream",
     "text": [
      "['facebook', 'teams', 'maps', 'drive', 'setting', 'alarm', 'calculator', 'amazon', 'telegram', 'whatsapp', 'among us', 'call of duty', 'snapchat', 'keypad', 'contacts', 'chrome', 'spotify', 'google', 'voice recorder', 'camera', 'twitter', 'gallery', 'instagram', 'youtube']\n"
     ]
    }
   ],
   "source": [
    "apps.remove(\"udemy\")\n",
    "print(apps)"
   ]
  },
  {
   "cell_type": "code",
   "execution_count": 177,
   "metadata": {},
   "outputs": [
    {
     "name": "stdout",
     "output_type": "stream",
     "text": [
      "['alarm', 'amazon', 'among us', 'calculator', 'call of duty', 'camera', 'chrome', 'contacts', 'drive', 'facebook', 'gallery', 'google', 'instagram', 'keypad', 'maps', 'setting', 'snapchat', 'spotify', 'teams', 'telegram', 'twitter', 'voice recorder', 'whatsapp', 'youtube']\n"
     ]
    }
   ],
   "source": [
    "apps.sort()\n",
    "print(apps)"
   ]
  },
  {
   "cell_type": "code",
   "execution_count": 178,
   "metadata": {},
   "outputs": [
    {
     "name": "stdout",
     "output_type": "stream",
     "text": [
      "1\n"
     ]
    }
   ],
   "source": [
    "x=apps.count('google')\n",
    "print(x)"
   ]
  },
  {
   "cell_type": "code",
   "execution_count": 179,
   "metadata": {},
   "outputs": [
    {
     "name": "stdout",
     "output_type": "stream",
     "text": [
      "['chalo', 'uber', 'rapido', 'alarm', 'amazon', 'among us', 'calculator', 'call of duty', 'camera', 'chrome', 'contacts', 'drive', 'facebook', 'gallery', 'google', 'instagram', 'keypad', 'maps', 'setting', 'snapchat', 'spotify', 'teams', 'telegram', 'twitter', 'voice recorder', 'whatsapp', 'youtube']\n"
     ]
    }
   ],
   "source": [
    "apps2=['chalo','uber','rapido']\n",
    "apps2.extend(apps)\n",
    "print(apps2)"
   ]
  },
  {
   "cell_type": "code",
   "execution_count": 180,
   "metadata": {},
   "outputs": [
    {
     "name": "stdout",
     "output_type": "stream",
     "text": [
      "3\n"
     ]
    }
   ],
   "source": [
    "y=apps.index('calculator')\n",
    "print(y)"
   ]
  },
  {
   "cell_type": "code",
   "execution_count": 183,
   "metadata": {},
   "outputs": [
    {
     "name": "stdout",
     "output_type": "stream",
     "text": [
      "86\n"
     ]
    }
   ],
   "source": [
    "b=[2,4,5,2,6,8,4,6,9,3,6,5,7,9,10]\n",
    "c=sum(b)\n",
    "print(c)"
   ]
  },
  {
   "cell_type": "code",
   "execution_count": 184,
   "metadata": {},
   "outputs": [
    {
     "name": "stdout",
     "output_type": "stream",
     "text": [
      "10\n",
      "2\n"
     ]
    }
   ],
   "source": [
    "z=max(b)\n",
    "print(z)\n",
    "d=min(b)\n",
    "print(d)"
   ]
  }
 ],
 "metadata": {
  "kernelspec": {
   "display_name": "base",
   "language": "python",
   "name": "python3"
  },
  "language_info": {
   "codemirror_mode": {
    "name": "ipython",
    "version": 3
   },
   "file_extension": ".py",
   "mimetype": "text/x-python",
   "name": "python",
   "nbconvert_exporter": "python",
   "pygments_lexer": "ipython3",
   "version": "3.10.10"
  },
  "orig_nbformat": 4
 },
 "nbformat": 4,
 "nbformat_minor": 2
}
