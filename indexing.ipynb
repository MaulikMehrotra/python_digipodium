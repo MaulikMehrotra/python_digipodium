{
 "cells": [
  {
   "cell_type": "code",
   "execution_count": 3,
   "metadata": {},
   "outputs": [
    {
     "name": "stdout",
     "output_type": "stream",
     "text": [
      "24\n",
      "chrome\n"
     ]
    }
   ],
   "source": [
    "apps=[\"youtube\",\"udemy\",\"instagram\",\"gallery\",\"twitter\",\"camera\",\"voice recorder\",\"google\",\"spotify\",\"chrome\",\"contacts\",\"keypad\",\"snapchat\",\"call of duty\",\"among us\",\"whatsapp\",\"telegram\",\"amazon\",\"calculator\",\"alarm\",\"sdetting\",\"drive\",\"maps\",\"teams\"]\n",
    "print(len(apps))\n",
    "print(apps[9])"
   ]
  },
  {
   "cell_type": "code",
   "execution_count": 11,
   "metadata": {},
   "outputs": [
    {
     "name": "stdout",
     "output_type": "stream",
     "text": [
      "['p', 'r', 'o', 'g', 'r']\n",
      "['r']\n",
      "[]\n",
      "['o', 'g', 'r']\n",
      "['a', 'm', 'i', 'z']\n",
      "['p', 'r', 'o', 'g', 'r', 'a', 'm', 'i', 'z']\n",
      "['r', 'g', 'a', 'i']\n",
      "['z']\n"
     ]
    }
   ],
   "source": [
    "mylist=['p','r','o','g','r','a','m','i','z']\n",
    "print(mylist[0:5])\n",
    "print(mylist[4:5])\n",
    "print(mylist[5:5])\n",
    "print(mylist[2:5])\n",
    "print(mylist[5:])\n",
    "print(mylist[:])\n",
    "print(mylist[1:9:2]) # current wale ko bhi count karenge\n",
    "print(mylist[-1: ])"
   ]
  }
 ],
 "metadata": {
  "kernelspec": {
   "display_name": "base",
   "language": "python",
   "name": "python3"
  },
  "language_info": {
   "codemirror_mode": {
    "name": "ipython",
    "version": 3
   },
   "file_extension": ".py",
   "mimetype": "text/x-python",
   "name": "python",
   "nbconvert_exporter": "python",
   "pygments_lexer": "ipython3",
   "version": "3.10.10"
  },
  "orig_nbformat": 4
 },
 "nbformat": 4,
 "nbformat_minor": 2
}
