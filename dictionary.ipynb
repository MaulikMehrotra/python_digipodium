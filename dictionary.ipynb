{
 "cells": [
  {
   "cell_type": "code",
   "execution_count": 30,
   "metadata": {},
   "outputs": [],
   "source": [
    "\"\"\"dictionary       {}\n",
    "  complex value      key value\n",
    "  student={\n",
    "           'maulik':'MU',\n",
    "           'Aman':'NPGC',\n",
    "           'Abhay':'NPGC',\n",
    "           'Mazahir':'AU',\n",
    "           'Imadul':'IU',\n",
    "           'Prashutosh':'SHUATS'\n",
    "                ^          ^\n",
    "                !          !\n",
    "               Key        Value \n",
    "  }\"\"\"\n",
    "student={\n",
    "           'maulik':'MU',\n",
    "           'Aman':'NPGC',\n",
    "           'Abhay':'NPGC',\n",
    "           'Mazahir':'AU',\n",
    "           'Imadul':'IU',\n",
    "           'Prashutosh':'SHUATS',\n",
    "           'Shoeb': {\n",
    "               'college':'IET',\n",
    "               'type':'Online'\n",
    "           },\n",
    "           'Mandavi':{\n",
    "               'college':'HNBGU',\n",
    "               'type':'online'\n",
    "           }\n",
    "                \n",
    "  }"
   ]
  },
  {
   "cell_type": "code",
   "execution_count": 31,
   "metadata": {},
   "outputs": [
    {
     "data": {
      "text/plain": [
       "{'college': 'IET', 'type': 'Online'}"
      ]
     },
     "execution_count": 31,
     "metadata": {},
     "output_type": "execute_result"
    }
   ],
   "source": [
    "student['Shoeb']  #only key can be entered"
   ]
  },
  {
   "cell_type": "code",
   "execution_count": 32,
   "metadata": {},
   "outputs": [
    {
     "name": "stdout",
     "output_type": "stream",
     "text": [
      "{'maulik': 'MU',\n",
      " 'Aman': 'NPGC',\n",
      " 'Abhay': 'NPGC',\n",
      " 'Mazahir': 'AU',\n",
      " 'Imadul': 'IU',\n",
      " 'Prashutosh': 'SHUATS',\n",
      " 'Shoeb': {'college': 'IET', 'type': 'Online'},\n",
      " 'Mandavi': {'college': 'HNBGU', 'type': 'online'}}\n"
     ]
    }
   ],
   "source": [
    "from pprint import pp\n",
    "pp(student)"
   ]
  },
  {
   "cell_type": "code",
   "execution_count": 33,
   "metadata": {},
   "outputs": [
    {
     "data": {
      "text/plain": [
       "'online'"
      ]
     },
     "execution_count": 33,
     "metadata": {},
     "output_type": "execute_result"
    }
   ],
   "source": [
    "student['Mandavi']['type']"
   ]
  },
  {
   "cell_type": "code",
   "execution_count": 34,
   "metadata": {},
   "outputs": [
    {
     "name": "stdout",
     "output_type": "stream",
     "text": [
      "{'maulik': 'MU',\n",
      " 'Aman': 'NPGC',\n",
      " 'Abhay': 'NPGC',\n",
      " 'Mazahir': 'AU',\n",
      " 'Imadul': 'IU',\n",
      " 'Prashutosh': 'SHUATS',\n",
      " 'Shoeb': {'college': 'IET', 'type': 'Online'},\n",
      " 'Mandavi': {'college': 'HNBGU', 'type': 'online'},\n",
      " 'shreya': {'college': 'bbdu', 'type': 'online'}}\n"
     ]
    }
   ],
   "source": [
    "student['shreya']={\n",
    "    'college':'bbdu',\n",
    "    'type':'online'\n",
    "}\n",
    "pp(student)"
   ]
  },
  {
   "cell_type": "code",
   "execution_count": 35,
   "metadata": {},
   "outputs": [
    {
     "data": {
      "text/plain": [
       "'NPGC'"
      ]
     },
     "execution_count": 35,
     "metadata": {},
     "output_type": "execute_result"
    }
   ],
   "source": [
    "student['Shoeb']['type']='flexi'\n",
    "student.pop('Abhay')"
   ]
  },
  {
   "cell_type": "code",
   "execution_count": 39,
   "metadata": {},
   "outputs": [],
   "source": [
    "report={\n",
    "    'class10':{\n",
    "        'rohan':{\n",
    "            'english':90,\n",
    "            'maths':95,\n",
    "            'hindi':85,\n",
    "            'science':95,\n",
    "            'social':95,\n",
    "            'p.e.':95\n",
    "        },\n",
    "        'rhythem':{\n",
    "            'english':50,\n",
    "            'maths':55,\n",
    "            'hindi':45,\n",
    "            'science':55,\n",
    "            'social':55,\n",
    "            'p.e.':95 \n",
    "        },\n",
    "        'aditi':{\n",
    "             'english':67,\n",
    "            'maths':66,\n",
    "            'hindi':54,\n",
    "            'science':89,\n",
    "            'social':99,\n",
    "            'p.e.':99\n",
    "        },\n",
    "        'shubh':{\n",
    "             'english':94,\n",
    "            'maths':97,\n",
    "            'hindi':86,\n",
    "            'science':99,\n",
    "            'social':75,\n",
    "            'p.e.':95\n",
    "        },\n",
    "        'niya':{\n",
    "            'english':100,\n",
    "            'maths':99,\n",
    "            'hindi':98,\n",
    "            'science':95,\n",
    "            'social':45,\n",
    "            'p.e.':95\n",
    "        },\n",
    "        'aditya':{\n",
    "             'english':80,\n",
    "            'maths':85,\n",
    "            'hindi':89,\n",
    "            'science':94,\n",
    "            'social':93,\n",
    "            'p.e.':91\n",
    "        },\n",
    "    }\n",
    "}"
   ]
  },
  {
   "cell_type": "code",
   "execution_count": 40,
   "metadata": {},
   "outputs": [
    {
     "name": "stdout",
     "output_type": "stream",
     "text": [
      "{'class10': {'rohan': {'english': 90,\n",
      "                       'maths': 95,\n",
      "                       'hindi': 85,\n",
      "                       'science': 95,\n",
      "                       'social': 95,\n",
      "                       'p.e.': 95},\n",
      "             'rhythem': {'english': 50,\n",
      "                         'maths': 55,\n",
      "                         'hindi': 45,\n",
      "                         'science': 55,\n",
      "                         'social': 55,\n",
      "                         'p.e.': 95},\n",
      "             'aditi': {'english': 67,\n",
      "                       'maths': 66,\n",
      "                       'hindi': 54,\n",
      "                       'science': 89,\n",
      "                       'social': 99,\n",
      "                       'p.e.': 99},\n",
      "             'shubh': {'english': 94,\n",
      "                       'maths': 97,\n",
      "                       'hindi': 86,\n",
      "                       'science': 99,\n",
      "                       'social': 75,\n",
      "                       'p.e.': 95},\n",
      "             'niya': {'english': 100,\n",
      "                      'maths': 99,\n",
      "                      'hindi': 98,\n",
      "                      'science': 95,\n",
      "                      'social': 45,\n",
      "                      'p.e.': 95},\n",
      "             'aditya': {'english': 80,\n",
      "                        'maths': 85,\n",
      "                        'hindi': 89,\n",
      "                        'science': 94,\n",
      "                        'social': 93,\n",
      "                        'p.e.': 91}}}\n"
     ]
    }
   ],
   "source": [
    "pp(report)"
   ]
  }
 ],
 "metadata": {
  "kernelspec": {
   "display_name": "base",
   "language": "python",
   "name": "python3"
  },
  "language_info": {
   "codemirror_mode": {
    "name": "ipython",
    "version": 3
   },
   "file_extension": ".py",
   "mimetype": "text/x-python",
   "name": "python",
   "nbconvert_exporter": "python",
   "pygments_lexer": "ipython3",
   "version": "3.10.10"
  },
  "orig_nbformat": 4
 },
 "nbformat": 4,
 "nbformat_minor": 2
}
