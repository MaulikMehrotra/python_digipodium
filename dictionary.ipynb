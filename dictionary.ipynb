{
 "cells": [
  {
   "cell_type": "code",
   "execution_count": 31,
   "metadata": {},
   "outputs": [],
   "source": [
    "\"\"\"dictionary       {}\n",
    "  complex value      key value\n",
    "  student={\n",
    "           'maulik':'MU',\n",
    "           'Aman':'NPGC',\n",
    "           'Abhay':'NPGC',\n",
    "           'Mazahir':'AU',\n",
    "           'Imadul':'IU',\n",
    "           'Prashutosh':'SHUATS'\n",
    "                ^          ^\n",
    "                !          !\n",
    "               Key        Value \n",
    "  }\"\"\"\n",
    "student={\n",
    "           'maulik':'MU',\n",
    "           'Aman':'NPGC',\n",
    "           'Abhay':'NPGC',\n",
    "           'Mazahir':'AU',\n",
    "           'Imadul':'IU',\n",
    "           'Prashutosh':'SHUATS',\n",
    "           'Shoeb': {\n",
    "               'college':'IET',\n",
    "               'type':'Online'\n",
    "           },\n",
    "           'Mandavi':{\n",
    "               'college':'HNBGU',\n",
    "               'type':'online'\n",
    "           }\n",
    "                \n",
    "  }"
   ]
  },
  {
   "cell_type": "code",
   "execution_count": 32,
   "metadata": {},
   "outputs": [
    {
     "data": {
      "text/plain": [
       "{'college': 'IET', 'type': 'Online'}"
      ]
     },
     "execution_count": 32,
     "metadata": {},
     "output_type": "execute_result"
    }
   ],
   "source": [
    "student['Shoeb']  #only key can be entered"
   ]
  },
  {
   "cell_type": "code",
   "execution_count": 33,
   "metadata": {},
   "outputs": [
    {
     "name": "stdout",
     "output_type": "stream",
     "text": [
      "{'maulik': 'MU',\n",
      " 'Aman': 'NPGC',\n",
      " 'Abhay': 'NPGC',\n",
      " 'Mazahir': 'AU',\n",
      " 'Imadul': 'IU',\n",
      " 'Prashutosh': 'SHUATS',\n",
      " 'Shoeb': {'college': 'IET', 'type': 'Online'},\n",
      " 'Mandavi': {'college': 'HNBGU', 'type': 'online'}}\n"
     ]
    }
   ],
   "source": [
    "from pprint import pp\n",
    "pp(student)"
   ]
  },
  {
   "cell_type": "code",
   "execution_count": 34,
   "metadata": {},
   "outputs": [
    {
     "data": {
      "text/plain": [
       "'online'"
      ]
     },
     "execution_count": 34,
     "metadata": {},
     "output_type": "execute_result"
    }
   ],
   "source": [
    "student['Mandavi']['type']"
   ]
  },
  {
   "cell_type": "code",
   "execution_count": 35,
   "metadata": {},
   "outputs": [
    {
     "name": "stdout",
     "output_type": "stream",
     "text": [
      "{'maulik': 'MU',\n",
      " 'Aman': 'NPGC',\n",
      " 'Abhay': 'NPGC',\n",
      " 'Mazahir': 'AU',\n",
      " 'Imadul': 'IU',\n",
      " 'Prashutosh': 'SHUATS',\n",
      " 'Shoeb': {'college': 'IET', 'type': 'Online'},\n",
      " 'Mandavi': {'college': 'HNBGU', 'type': 'online'},\n",
      " 'shreya': {'college': 'bbdu', 'type': 'online'}}\n"
     ]
    }
   ],
   "source": [
    "student['shreya']={\n",
    "    'college':'bbdu',\n",
    "    'type':'online'\n",
    "}\n",
    "pp(student)"
   ]
  },
  {
   "cell_type": "code",
   "execution_count": 36,
   "metadata": {},
   "outputs": [
    {
     "data": {
      "text/plain": [
       "'NPGC'"
      ]
     },
     "execution_count": 36,
     "metadata": {},
     "output_type": "execute_result"
    }
   ],
   "source": [
    "student['Shoeb']['type']='flexi'\n",
    "student.pop('Abhay')"
   ]
  },
  {
   "cell_type": "code",
   "execution_count": 37,
   "metadata": {},
   "outputs": [],
   "source": [
    "report={\n",
    "    'class10':{\n",
    "        'rohan':{\n",
    "            'english':90,\n",
    "            'maths':95,\n",
    "            'hindi':85,\n",
    "            'science':95,\n",
    "            'social':95,\n",
    "            'p.e.':95\n",
    "        },\n",
    "        'rhythem':{\n",
    "            'english':50,\n",
    "            'maths':55,\n",
    "            'hindi':45,\n",
    "            'science':55,\n",
    "            'social':55,\n",
    "            'p.e.':95 \n",
    "        },\n",
    "        'aditi':{\n",
    "             'english':67,\n",
    "            'maths':66,\n",
    "            'hindi':54,\n",
    "            'science':89,\n",
    "            'social':99,\n",
    "            'p.e.':99\n",
    "        },\n",
    "        'shubh':{\n",
    "             'english':94,\n",
    "            'maths':97,\n",
    "            'hindi':86,\n",
    "            'science':99,\n",
    "            'social':75,\n",
    "            'p.e.':95\n",
    "        },\n",
    "        'niya':{\n",
    "            'english':100,\n",
    "            'maths':99,\n",
    "            'hindi':98,\n",
    "            'science':95,\n",
    "            'social':45,\n",
    "            'p.e.':95\n",
    "        },\n",
    "        'aditya':{\n",
    "             'english':80,\n",
    "            'maths':85,\n",
    "            'hindi':89,\n",
    "            'science':94,\n",
    "            'social':93,\n",
    "            'p.e.':91\n",
    "        },\n",
    "    }\n",
    "}"
   ]
  },
  {
   "cell_type": "code",
   "execution_count": 38,
   "metadata": {},
   "outputs": [
    {
     "name": "stdout",
     "output_type": "stream",
     "text": [
      "{'class10': {'rohan': {'english': 90,\n",
      "                       'maths': 95,\n",
      "                       'hindi': 85,\n",
      "                       'science': 95,\n",
      "                       'social': 95,\n",
      "                       'p.e.': 95},\n",
      "             'rhythem': {'english': 50,\n",
      "                         'maths': 55,\n",
      "                         'hindi': 45,\n",
      "                         'science': 55,\n",
      "                         'social': 55,\n",
      "                         'p.e.': 95},\n",
      "             'aditi': {'english': 67,\n",
      "                       'maths': 66,\n",
      "                       'hindi': 54,\n",
      "                       'science': 89,\n",
      "                       'social': 99,\n",
      "                       'p.e.': 99},\n",
      "             'shubh': {'english': 94,\n",
      "                       'maths': 97,\n",
      "                       'hindi': 86,\n",
      "                       'science': 99,\n",
      "                       'social': 75,\n",
      "                       'p.e.': 95},\n",
      "             'niya': {'english': 100,\n",
      "                      'maths': 99,\n",
      "                      'hindi': 98,\n",
      "                      'science': 95,\n",
      "                      'social': 45,\n",
      "                      'p.e.': 95},\n",
      "             'aditya': {'english': 80,\n",
      "                        'maths': 85,\n",
      "                        'hindi': 89,\n",
      "                        'science': 94,\n",
      "                        'social': 93,\n",
      "                        'p.e.': 91}}}\n"
     ]
    }
   ],
   "source": [
    "pp(report)"
   ]
  },
  {
   "cell_type": "code",
   "execution_count": 39,
   "metadata": {},
   "outputs": [
    {
     "data": {
      "text/plain": [
       "67"
      ]
     },
     "execution_count": 39,
     "metadata": {},
     "output_type": "execute_result"
    }
   ],
   "source": [
    "report['class10']['aditi']['english']"
   ]
  },
  {
   "cell_type": "code",
   "execution_count": 40,
   "metadata": {},
   "outputs": [
    {
     "name": "stdout",
     "output_type": "stream",
     "text": [
      "dict_keys(['class10'])\n"
     ]
    },
    {
     "data": {
      "text/plain": [
       "dict_keys(['rohan', 'rhythem', 'aditi', 'shubh', 'niya', 'aditya'])"
      ]
     },
     "execution_count": 40,
     "metadata": {},
     "output_type": "execute_result"
    }
   ],
   "source": [
    "print(report.keys())\n",
    "report['class10'].keys()\n",
    "\n"
   ]
  },
  {
   "cell_type": "code",
   "execution_count": 41,
   "metadata": {},
   "outputs": [
    {
     "data": {
      "text/plain": [
       "{'english': 90,\n",
       " 'maths': 95,\n",
       " 'hindi': 85,\n",
       " 'science': 95,\n",
       " 'social': 95,\n",
       " 'p.e.': 95}"
      ]
     },
     "execution_count": 41,
     "metadata": {},
     "output_type": "execute_result"
    }
   ],
   "source": [
    "report['class10']['rohan']"
   ]
  },
  {
   "cell_type": "code",
   "execution_count": 42,
   "metadata": {},
   "outputs": [
    {
     "data": {
      "text/plain": [
       "90"
      ]
     },
     "execution_count": 42,
     "metadata": {},
     "output_type": "execute_result"
    }
   ],
   "source": [
    "report['class10']['rohan']['english']"
   ]
  },
  {
   "cell_type": "code",
   "execution_count": 46,
   "metadata": {},
   "outputs": [
    {
     "data": {
      "text/plain": [
       "dict_values([{'rohan': {'english': 90, 'maths': 95, 'hindi': 85, 'science': 95, 'social': 95, 'p.e.': 95}, 'rhythem': {'english': 50, 'maths': 55, 'hindi': 45, 'science': 55, 'social': 55, 'p.e.': 95}, 'aditi': {'english': 67, 'maths': 66, 'hindi': 54, 'science': 89, 'social': 99, 'p.e.': 99}, 'shubh': {'english': 94, 'maths': 97, 'hindi': 86, 'science': 99, 'social': 75, 'p.e.': 95}, 'niya': {'english': 100, 'maths': 99, 'hindi': 98, 'science': 95, 'social': 45, 'p.e.': 95}, 'aditya': {'english': 80, 'maths': 85, 'hindi': 89, 'science': 94, 'social': 93, 'p.e.': 91}}])"
      ]
     },
     "execution_count": 46,
     "metadata": {},
     "output_type": "execute_result"
    }
   ],
   "source": [
    "report.values()\n"
   ]
  },
  {
   "cell_type": "code",
   "execution_count": 47,
   "metadata": {},
   "outputs": [
    {
     "name": "stdout",
     "output_type": "stream",
     "text": [
      "dict_values([{'english': 90, 'maths': 95, 'hindi': 85, 'science': 95, 'social': 95, 'p.e.': 95}, {'english': 50, 'maths': 55, 'hindi': 45, 'science': 55, 'social': 55, 'p.e.': 95}, {'english': 67, 'maths': 66, 'hindi': 54, 'science': 89, 'social': 99, 'p.e.': 99}, {'english': 94, 'maths': 97, 'hindi': 86, 'science': 99, 'social': 75, 'p.e.': 95}, {'english': 100, 'maths': 99, 'hindi': 98, 'science': 95, 'social': 45, 'p.e.': 95}, {'english': 80, 'maths': 85, 'hindi': 89, 'science': 94, 'social': 93, 'p.e.': 91}])\n"
     ]
    }
   ],
   "source": [
    "print(report['class10'].values())"
   ]
  },
  {
   "cell_type": "code",
   "execution_count": 48,
   "metadata": {},
   "outputs": [],
   "source": [
    "movies={\n",
    "    '3 idiots':'a story about 3 friends',\n",
    "    'lunchbox':'a story about lunnchbox',\n",
    "    'dangal':'a story about wrestelers',\n",
    "    'pk':'a story about aliens',\n",
    "    'taare zameen par':'a story about a student',\n",
    "    'Ra.one':' A story about video games',\n",
    "    'haunted':'a story about a ghost'\n",
    "}\n"
   ]
  },
  {
   "cell_type": "code",
   "execution_count": 49,
   "metadata": {},
   "outputs": [
    {
     "data": {
      "text/plain": [
       "dict_items([('3 idiots', 'a story about 3 friends'), ('lunchbox', 'a story about lunnchbox'), ('dangal', 'a story about wrestelers'), ('pk', 'a story about aliens'), ('taare zameen par', 'a story about a student'), ('Ra.one', ' A story about video games'), ('haunted', 'a story about a ghost')])"
      ]
     },
     "execution_count": 49,
     "metadata": {},
     "output_type": "execute_result"
    }
   ],
   "source": [
    "movies.items()"
   ]
  },
  {
   "cell_type": "code",
   "execution_count": 53,
   "metadata": {},
   "outputs": [
    {
     "name": "stdout",
     "output_type": "stream",
     "text": [
      "3 idiots ==> a story about 3 friends\n",
      "lunchbox ==> a story about lunnchbox\n",
      "dangal ==> a story about wrestelers\n",
      "pk ==> a story about aliens\n",
      "taare zameen par ==> a story about a student\n",
      "Ra.one ==>  A story about video games\n",
      "haunted ==> a story about a ghost\n",
      "3 idiots             a story about 3 friends\n",
      "lunchbox             a story about lunnchbox\n",
      "dangal               a story about wrestelers\n",
      "pk                   a story about aliens\n",
      "taare zameen par     a story about a student\n",
      "Ra.one                A story about video games\n",
      "haunted              a story about a ghost\n"
     ]
    }
   ],
   "source": [
    "for k,v in movies.items():\n",
    "    print(k,'==>',v)\n",
    "\n",
    "for k,v in movies.items():\n",
    "    print(f'{k:20} {v}')"
   ]
  },
  {
   "cell_type": "code",
   "execution_count": 55,
   "metadata": {},
   "outputs": [
    {
     "data": {
      "text/plain": [
       "True"
      ]
     },
     "execution_count": 55,
     "metadata": {},
     "output_type": "execute_result"
    }
   ],
   "source": [
    "isinstance(report['class10'],dict)#verifies if object is data type"
   ]
  },
  {
   "cell_type": "code",
   "execution_count": 58,
   "metadata": {},
   "outputs": [
    {
     "name": "stdout",
     "output_type": "stream",
     "text": [
      "class10\n",
      "---> rohan\n",
      "--> english = 90\n",
      "--> maths = 95\n",
      "--> hindi = 85\n",
      "--> science = 95\n",
      "--> social = 95\n",
      "--> p.e. = 95\n",
      "---> rhythem\n",
      "--> english = 50\n",
      "--> maths = 55\n",
      "--> hindi = 45\n",
      "--> science = 55\n",
      "--> social = 55\n",
      "--> p.e. = 95\n",
      "---> aditi\n",
      "--> english = 67\n",
      "--> maths = 66\n",
      "--> hindi = 54\n",
      "--> science = 89\n",
      "--> social = 99\n",
      "--> p.e. = 99\n",
      "---> shubh\n",
      "--> english = 94\n",
      "--> maths = 97\n",
      "--> hindi = 86\n",
      "--> science = 99\n",
      "--> social = 75\n",
      "--> p.e. = 95\n",
      "---> niya\n",
      "--> english = 100\n",
      "--> maths = 99\n",
      "--> hindi = 98\n",
      "--> science = 95\n",
      "--> social = 45\n",
      "--> p.e. = 95\n",
      "---> aditya\n",
      "--> english = 80\n",
      "--> maths = 85\n",
      "--> hindi = 89\n",
      "--> science = 94\n",
      "--> social = 93\n",
      "--> p.e. = 91\n"
     ]
    }
   ],
   "source": [
    "for cls,students in report.items():\n",
    "    print(cls)\n",
    "    if isinstance(students,dict):\n",
    "     for name,subjects in students.items():\n",
    "        print('--->',name)\n",
    "        if isinstance(subjects,dict):\n",
    "            for subjects, marks in subjects.items():\n",
    "                print('-->',subjects,'=',marks)\n"
   ]
  },
  {
   "cell_type": "code",
   "execution_count": 73,
   "metadata": {},
   "outputs": [
    {
     "name": "stdout",
     "output_type": "stream",
     "text": [
      "class10\n",
      "---> rohan\n",
      "--> english = 90\n",
      "--> maths = 95\n",
      "--> hindi = 85\n",
      "--> science = 95\n",
      "--> social = 95\n",
      "--> p.e. = 95\n",
      "555\n",
      "average is=92.5 \n",
      "avg-> 92\n",
      "the highest marks are 95 in p.e. \n",
      "---> rhythem\n",
      "--> english = 50\n",
      "--> maths = 55\n",
      "--> hindi = 45\n",
      "--> science = 55\n",
      "--> social = 55\n",
      "--> p.e. = 95\n",
      "355\n",
      "average is=59.166666666666664 \n",
      "avg-> 59\n",
      "the highest marks are 95 in p.e. \n",
      "---> aditi\n",
      "--> english = 67\n",
      "--> maths = 66\n",
      "--> hindi = 54\n",
      "--> science = 89\n",
      "--> social = 99\n",
      "--> p.e. = 99\n",
      "474\n",
      "average is=79.0 \n",
      "avg-> 79\n",
      "the highest marks are 99 in p.e. \n",
      "---> shubh\n",
      "--> english = 94\n",
      "--> maths = 97\n",
      "--> hindi = 86\n",
      "--> science = 99\n",
      "--> social = 75\n",
      "--> p.e. = 95\n",
      "546\n",
      "average is=91.0 \n",
      "avg-> 91\n",
      "the highest marks are 99 in science \n",
      "---> niya\n",
      "--> english = 100\n",
      "--> maths = 99\n",
      "--> hindi = 98\n",
      "--> science = 95\n",
      "--> social = 45\n",
      "--> p.e. = 95\n",
      "532\n",
      "average is=88.66666666666667 \n",
      "avg-> 88\n",
      "the highest marks are 100 in english \n",
      "---> aditya\n",
      "--> english = 80\n",
      "--> maths = 85\n",
      "--> hindi = 89\n",
      "--> science = 94\n",
      "--> social = 93\n",
      "--> p.e. = 91\n",
      "532\n",
      "average is=88.66666666666667 \n",
      "avg-> 88\n",
      "the highest marks are 94 in science \n"
     ]
    }
   ],
   "source": [
    "\n",
    "s=0\n",
    "for cls,students in report.items():\n",
    "    print(cls)\n",
    "    if isinstance(students,dict):\n",
    "     for name,subjects in students.items():\n",
    "          \n",
    "          print('--->',name)\n",
    "          if isinstance(subjects,dict):\n",
    "              s=0\n",
    "              h=0\n",
    "              t=''\n",
    "              for subjects, marks in subjects.items():\n",
    "                print('-->',subjects,'=',marks)\n",
    "                s=s+marks\n",
    "                if h<=marks:\n",
    "                   h=marks\n",
    "                   t=subjects\n",
    "              print(s)\n",
    "              print(f'average is={s/6} ')\n",
    "              print('avg->',s//6)\n",
    "              print(f'the highest marks are {h} in {t} ')"
   ]
  },
  {
   "cell_type": "code",
   "execution_count": null,
   "metadata": {},
   "outputs": [],
   "source": []
  }
 ],
 "metadata": {
  "kernelspec": {
   "display_name": "base",
   "language": "python",
   "name": "python3"
  },
  "language_info": {
   "codemirror_mode": {
    "name": "ipython",
    "version": 3
   },
   "file_extension": ".py",
   "mimetype": "text/x-python",
   "name": "python",
   "nbconvert_exporter": "python",
   "pygments_lexer": "ipython3",
   "version": "3.10.10"
  },
  "orig_nbformat": 4
 },
 "nbformat": 4,
 "nbformat_minor": 2
}
