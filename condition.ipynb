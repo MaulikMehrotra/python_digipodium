{
 "cells": [
  {
   "cell_type": "code",
   "execution_count": null,
   "metadata": {},
   "outputs": [],
   "source": [
    "t=1\n",
    "if t>0:\n",
    " print(\"yes\")\n",
    "else:\n",
    " print(\"no\")\n"
   ]
  },
  {
   "cell_type": "code",
   "execution_count": null,
   "metadata": {},
   "outputs": [],
   "source": [
    "a=5\n",
    "b=10\n",
    "c=15\n",
    "if a<b:\n",
    "    print(\"a is less than b\")\n",
    "if b<c:\n",
    "    print(\"b is less than c\")\n",
    "if c<a:\n",
    "    print(\"c is less than a\")\n",
    "if c<b:\n",
    "    print(\"c is less than b\")\n",
    "if b<a:\n",
    "    print(\"b is less than a\")\n",
    "if a<c:\n",
    "    print(\"a is less than c\")"
   ]
  },
  {
   "cell_type": "code",
   "execution_count": null,
   "metadata": {},
   "outputs": [],
   "source": [
    "a=5\n",
    "b=10\n",
    "c=15\n",
    "if a<b:\n",
    "    print(\"a is less than b\")\n",
    "elif b<c:          # elif means else if in python this code is executed only if the \"if\" statement is false\n",
    "    print(\"b is less than c\")\n",
    "elif c<a:\n",
    "    print(\"c is less than a\")\n",
    "elif c<b:\n",
    "    print(\"c is less than b\")\n",
    "elif b<a:\n",
    "    print(\"b is less than a\")\n",
    "elif a<c:\n",
    "    print(\"a is less than c\")\n",
    "else:\n",
    "    print(\"nothin is true\")"
   ]
  },
  {
   "cell_type": "code",
   "execution_count": null,
   "metadata": {},
   "outputs": [],
   "source": [
    "t=98\n",
    "if t>10:\n",
    "    print(\"no\")\n",
    "else:\n",
    "    print(\"yes\")"
   ]
  },
  {
   "cell_type": "code",
   "execution_count": null,
   "metadata": {},
   "outputs": [],
   "source": [
    "n=98\n",
    "if n%2==0:\n",
    "    print(\"even\")\n",
    "else:\n",
    "    print(\"odd\")\n"
   ]
  },
  {
   "cell_type": "code",
   "execution_count": null,
   "metadata": {},
   "outputs": [],
   "source": [
    "a=int(input(\"enter a number\"))\n",
    "if a%2==0:\n",
    "    print(\"even\")\n",
    "else:\n",
    "    print(\"odd\")"
   ]
  },
  {
   "cell_type": "code",
   "execution_count": 23,
   "metadata": {},
   "outputs": [
    {
     "name": "stdout",
     "output_type": "stream",
     "text": [
      "positive\n"
     ]
    }
   ],
   "source": [
    "a=int(input(\"enter a number\"))\n",
    "if a>=0:\n",
    "    print(\"positive\")\n",
    "else:\n",
    "    print(\"negative\")"
   ]
  },
  {
   "cell_type": "code",
   "execution_count": 25,
   "metadata": {},
   "outputs": [
    {
     "name": "stdout",
     "output_type": "stream",
     "text": [
      "integer is above\n",
      "even\n"
     ]
    }
   ],
   "source": [
    "t=9\n",
    "if t>1:\n",
    "    print(\"integer is positive\")\n",
    "    if t%2==0:\n",
    "        print(\"odd\")\n",
    "    else:\n",
    "        print(\"even\")"
   ]
  },
  {
   "cell_type": "code",
   "execution_count": 32,
   "metadata": {},
   "outputs": [
    {
     "name": "stdout",
     "output_type": "stream",
     "text": [
      "email is invalid\n"
     ]
    }
   ],
   "source": [
    "username=input(\"input username:\")\n",
    "email=input(\"input email:\")\n",
    "pwd=input(\"enter password:\")\n",
    "pwd2=input(\"enteryour second password\")\n",
    "if len(username)>=4 and len(username)<=15:\n",
    "    if '@' in email and email.islower() and len(email)>10:\n",
    "        if len(pwd)>=6 and pwd!=username:\n",
    "             if pwd==pwd2:\n",
    "              print(\"success😁\")\n",
    "             else:\n",
    "               print(\"password dosent match\")\n",
    "        else: \n",
    "         print(\"password is invalid\")\n",
    "    else:\n",
    "     print(\"email is invalid\")\n",
    "else:\n",
    " print(\"username is invalid\")\n",
    " "
   ]
  },
  {
   "cell_type": "code",
   "execution_count": 34,
   "metadata": {},
   "outputs": [
    {
     "name": "stdout",
     "output_type": "stream",
     "text": [
      "eligible\n"
     ]
    }
   ],
   "source": [
    "age=int(input(\"enter the age:\"))\n",
    "if age>18:\n",
    "    print(\"eligible\")\n",
    "else:\n",
    "    print(\"not eligible\")"
   ]
  },
  {
   "cell_type": "code",
   "execution_count": 40,
   "metadata": {},
   "outputs": [
    {
     "name": "stdout",
     "output_type": "stream",
     "text": [
      "isocelles\n"
     ]
    }
   ],
   "source": [
    "s1=int(input(\"input side one\"))\n",
    "s2=int(input(\"input side two\"))\n",
    "s3=int(input(\"input side three\"))\n",
    "if s1==s2 and s2==s3:\n",
    "    print(\"the triangle is equilateral\")\n",
    "elif s1==s2 or s2==s3 or s1==s3:\n",
    "    print(\"isocelles\")\n",
    "else:\n",
    "    print(\"not valid scalene triangel\")\n",
    "\n"
   ]
  }
 ],
 "metadata": {
  "kernelspec": {
   "display_name": "base",
   "language": "python",
   "name": "python3"
  },
  "language_info": {
   "codemirror_mode": {
    "name": "ipython",
    "version": 3
   },
   "file_extension": ".py",
   "mimetype": "text/x-python",
   "name": "python",
   "nbconvert_exporter": "python",
   "pygments_lexer": "ipython3",
   "version": "3.10.10"
  },
  "orig_nbformat": 4
 },
 "nbformat": 4,
 "nbformat_minor": 2
}
