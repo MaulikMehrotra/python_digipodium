{
 "cells": [
  {
   "cell_type": "code",
   "execution_count": 2,
   "metadata": {},
   "outputs": [
    {
     "name": "stdout",
     "output_type": "stream",
     "text": [
      "[1, 2, 3, 4, 5, 6, 7, 8, 9, 10]\n",
      "[1, 4, 9, 16, 25, 36, 49, 64, 81, 100]\n"
     ]
    }
   ],
   "source": [
    "a=[1,2,3,4,5,6,7,8,9,10]\n",
    "a2=[]\n",
    "for i in a:\n",
    "    a2.append(i**2)\n",
    "print(a)\n",
    "print(a2)"
   ]
  },
  {
   "cell_type": "code",
   "execution_count": 6,
   "metadata": {},
   "outputs": [
    {
     "name": "stdout",
     "output_type": "stream",
     "text": [
      "[1, 8, 27, 64, 125, 216, 343, 512, 729, 1000]\n"
     ]
    }
   ],
   "source": [
    "a3=[i**3 for i in a]\n",
    "print(a3)"
   ]
  },
  {
   "cell_type": "code",
   "execution_count": 11,
   "metadata": {},
   "outputs": [
    {
     "name": "stdout",
     "output_type": "stream",
     "text": [
      "['m', 'r', 'a', 'd', 'j']\n"
     ]
    }
   ],
   "source": [
    "names=['maulik','ranjeet','abhishek','dhruv','jai']\n",
    "name2=[i[0] for i in names]\n",
    "print(name2)"
   ]
  },
  {
   "cell_type": "code",
   "execution_count": 13,
   "metadata": {},
   "outputs": [
    {
     "name": "stdout",
     "output_type": "stream",
     "text": [
      "[11, 2, 5, 3, 2, 12, 16, 8, 21, 56, 23, 6]\n",
      "[1.0, 1.0, 6.0, 8.0, 4.0, 28.0, 3.0]\n"
     ]
    }
   ],
   "source": [
    "b=[11,2,5,3,2,12,16,8,21,56,23,6]\n",
    "b2=[]\n",
    "for i in b:\n",
    "    if i%2==0:\n",
    "        b2.append(i/2)\n",
    "print(b)\n",
    "print(b2)"
   ]
  },
  {
   "cell_type": "code",
   "execution_count": 15,
   "metadata": {},
   "outputs": [
    {
     "name": "stdout",
     "output_type": "stream",
     "text": [
      "[1.0, 1.0, 6.0, 8.0, 4.0, 28.0, 3.0]\n"
     ]
    }
   ],
   "source": [
    "b3=[i/2 for i in b if i%2==0]\n",
    "print(b3)"
   ]
  },
  {
   "cell_type": "code",
   "execution_count": 16,
   "metadata": {},
   "outputs": [],
   "source": [
    "#wap to create a list of 10 numbers, then use comprehension to create another list of only odd numbers\n",
    "#wap to create a list of 10 numbers, ' ' ' ' ' ' ' ' ' ' ' ' ' ' ' ' ' ' ' ' ' '  ' ' ' '  even numbers\n",
    "#wap to create a list a=['2','3','5','10'] then use comprehension to create another list of only int numbers\n",
    "#wap to add element of 2 lists in a 3rd list using comprehension assuming both lists are equal in length "
   ]
  },
  {
   "cell_type": "code",
   "execution_count": 18,
   "metadata": {},
   "outputs": [
    {
     "name": "stdout",
     "output_type": "stream",
     "text": [
      "[1, 3, 5, 7, 9]\n"
     ]
    }
   ],
   "source": [
    "a=[1,2,3,4,5,6,7,8,9,10]\n",
    "a2=[i for i in a if i%2!=0]\n",
    "print(a2)"
   ]
  },
  {
   "cell_type": "code",
   "execution_count": 20,
   "metadata": {},
   "outputs": [
    {
     "name": "stdout",
     "output_type": "stream",
     "text": [
      "[2, 4, 6, 8, 10]\n"
     ]
    }
   ],
   "source": [
    "a=[1,2,3,4,5,6,7,8,9,10]\n",
    "a2=[i for i in a if i%2==0]\n",
    "print(a2)"
   ]
  },
  {
   "cell_type": "code",
   "execution_count": 22,
   "metadata": {},
   "outputs": [
    {
     "name": "stdout",
     "output_type": "stream",
     "text": [
      "[2, 3, 5, 10]\n"
     ]
    }
   ],
   "source": [
    "a=['2','3','5','10'] \n",
    "a2=[int(i) for i in a ]\n",
    "print (a2)"
   ]
  },
  {
   "cell_type": "code",
   "execution_count": 1,
   "metadata": {},
   "outputs": [
    {
     "name": "stdout",
     "output_type": "stream",
     "text": [
      "[12, 24, 36, 48, 60, 72, 84, 96, 108, 110]\n"
     ]
    }
   ],
   "source": [
    "a=[1,2,3,4,5,6,7,8,9,10]\n",
    "a2=[11,22,33,44,55,66,77,88,99,100]\n",
    "a3=[a[i]+a2[i] for i in range(len(a)) ]\n",
    "print(a3)"
   ]
  },
  {
   "cell_type": "code",
   "execution_count": 7,
   "metadata": {},
   "outputs": [
    {
     "name": "stdout",
     "output_type": "stream",
     "text": [
      "0\n",
      "apple\n",
      "1\n",
      "banana\n",
      "2\n",
      "orange\n"
     ]
    }
   ],
   "source": [
    "#q4 without using len()\n",
    "#enumerate\n",
    "x=['apple','banana','orange']\n",
    "for index,value in enumerate(x):\n",
    "    print(index)\n",
    "    print(value)"
   ]
  },
  {
   "cell_type": "code",
   "execution_count": 9,
   "metadata": {},
   "outputs": [
    {
     "name": "stdout",
     "output_type": "stream",
     "text": [
      "💥apple\n",
      "❌banana\n",
      "💥orange\n",
      "❌lemon\n"
     ]
    }
   ],
   "source": [
    "x=['apple','banana','orange','lemon']\n",
    "for index,value in enumerate(x):\n",
    "    if index%2==0:\n",
    "     print(f\"💥{value}\")\n",
    "    else:\n",
    "     print(f'❌{value}')"
   ]
  },
  {
   "cell_type": "code",
   "execution_count": 13,
   "metadata": {},
   "outputs": [
    {
     "name": "stdout",
     "output_type": "stream",
     "text": [
      "alex got 56 in hindi\n",
      "alex got 67 in english\n",
      "mary got 78 in hindi\n",
      "mary got 89 in english\n",
      "sam got 90 in hindi\n",
      "sam got 90 in english\n",
      "alice got 78 in hindi\n",
      "alice got 78 in english\n"
     ]
    }
   ],
   "source": [
    "#zip-when u want to pass multiple sequences in a loop\n",
    "name=['alex','mary','sam','alice']\n",
    "hindi=[56,78,90,78]\n",
    "english=[67,89,90,78]\n",
    "for n,i,j in zip(name,hindi,english):\n",
    "    print(f'{n} got {i} in hindi')\n",
    "    print(f'{n} got {j} in english')"
   ]
  },
  {
   "cell_type": "code",
   "execution_count": 19,
   "metadata": {},
   "outputs": [
    {
     "name": "stdout",
     "output_type": "stream",
     "text": [
      "alex                 hindi=56 | english=67 | total=123\n",
      "mary                 hindi=78 | english=89 | total=167\n",
      "sam                  hindi=90 | english=90 | total=180\n",
      "alice                hindi=78 | english=78 | total=156\n"
     ]
    }
   ],
   "source": [
    "for n,h,e in zip(name,hindi,english):\n",
    "    print(f'{n:<20} hindi={h} | english={e} | total={h+e}')"
   ]
  },
  {
   "cell_type": "code",
   "execution_count": null,
   "metadata": {},
   "outputs": [],
   "source": []
  }
 ],
 "metadata": {
  "kernelspec": {
   "display_name": "base",
   "language": "python",
   "name": "python3"
  },
  "language_info": {
   "codemirror_mode": {
    "name": "ipython",
    "version": 3
   },
   "file_extension": ".py",
   "mimetype": "text/x-python",
   "name": "python",
   "nbconvert_exporter": "python",
   "pygments_lexer": "ipython3",
   "version": "3.10.10"
  },
  "orig_nbformat": 4
 },
 "nbformat": 4,
 "nbformat_minor": 2
}
