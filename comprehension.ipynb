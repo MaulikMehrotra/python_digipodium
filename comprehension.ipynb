{
 "cells": [
  {
   "cell_type": "code",
   "execution_count": 2,
   "metadata": {},
   "outputs": [
    {
     "name": "stdout",
     "output_type": "stream",
     "text": [
      "[1, 2, 3, 4, 5, 6, 7, 8, 9, 10]\n",
      "[1, 4, 9, 16, 25, 36, 49, 64, 81, 100]\n"
     ]
    }
   ],
   "source": [
    "a=[1,2,3,4,5,6,7,8,9,10]\n",
    "a2=[]\n",
    "for i in a:\n",
    "    a2.append(i**2)\n",
    "print(a)\n",
    "print(a2)"
   ]
  },
  {
   "cell_type": "code",
   "execution_count": 6,
   "metadata": {},
   "outputs": [
    {
     "name": "stdout",
     "output_type": "stream",
     "text": [
      "[1, 8, 27, 64, 125, 216, 343, 512, 729, 1000]\n"
     ]
    }
   ],
   "source": [
    "a3=[i**3 for i in a]\n",
    "print(a3)"
   ]
  },
  {
   "cell_type": "code",
   "execution_count": 11,
   "metadata": {},
   "outputs": [
    {
     "name": "stdout",
     "output_type": "stream",
     "text": [
      "['m', 'r', 'a', 'd', 'j']\n"
     ]
    }
   ],
   "source": [
    "names=['maulik','ranjeet','abhishek','dhruv','jai']\n",
    "name2=[i[0] for i in names]\n",
    "print(name2)"
   ]
  },
  {
   "cell_type": "code",
   "execution_count": 13,
   "metadata": {},
   "outputs": [
    {
     "name": "stdout",
     "output_type": "stream",
     "text": [
      "[11, 2, 5, 3, 2, 12, 16, 8, 21, 56, 23, 6]\n",
      "[1.0, 1.0, 6.0, 8.0, 4.0, 28.0, 3.0]\n"
     ]
    }
   ],
   "source": [
    "b=[11,2,5,3,2,12,16,8,21,56,23,6]\n",
    "b2=[]\n",
    "for i in b:\n",
    "    if i%2==0:\n",
    "        b2.append(i/2)\n",
    "print(b)\n",
    "print(b2)"
   ]
  },
  {
   "cell_type": "code",
   "execution_count": 15,
   "metadata": {},
   "outputs": [
    {
     "name": "stdout",
     "output_type": "stream",
     "text": [
      "[1.0, 1.0, 6.0, 8.0, 4.0, 28.0, 3.0]\n"
     ]
    }
   ],
   "source": [
    "b3=[i/2 for i in b if i%2==0]\n",
    "print(b3)"
   ]
  },
  {
   "cell_type": "code",
   "execution_count": null,
   "metadata": {},
   "outputs": [],
   "source": [
    "#wap to create a list of 10 numbers, then use comprehension to create another list of only odd numbers\n",
    "#wap to create a list of 10 numbers, ' ' ' ' ' ' ' ' ' ' ' ' ' ' ' ' ' ' ' ' ' '  ' ' ' '  even numbers\n",
    "#wap to create a list a=['2','3','5','10'] then use comprehension to create another list of only int numbers\n",
    "#wap to add element of 2 lists in a 3rd list using comprehension assuming both lists are equal in lenth "
   ]
  }
 ],
 "metadata": {
  "kernelspec": {
   "display_name": "base",
   "language": "python",
   "name": "python3"
  },
  "language_info": {
   "codemirror_mode": {
    "name": "ipython",
    "version": 3
   },
   "file_extension": ".py",
   "mimetype": "text/x-python",
   "name": "python",
   "nbconvert_exporter": "python",
   "pygments_lexer": "ipython3",
   "version": "3.10.10"
  },
  "orig_nbformat": 4
 },
 "nbformat": 4,
 "nbformat_minor": 2
}
