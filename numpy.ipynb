{
 "cells": [
  {
   "cell_type": "code",
   "execution_count": 1,
   "metadata": {},
   "outputs": [
    {
     "name": "stdout",
     "output_type": "stream",
     "text": [
      "[[  1.           4.4137931 ]\n",
      " [  7.82758621  11.24137931]\n",
      " [ 14.65517241  18.06896552]\n",
      " [ 21.48275862  24.89655172]\n",
      " [ 28.31034483  31.72413793]\n",
      " [ 35.13793103  38.55172414]\n",
      " [ 41.96551724  45.37931034]\n",
      " [ 48.79310345  52.20689655]\n",
      " [ 55.62068966  59.03448276]\n",
      " [ 62.44827586  65.86206897]\n",
      " [ 69.27586207  72.68965517]\n",
      " [ 76.10344828  79.51724138]\n",
      " [ 82.93103448  86.34482759]\n",
      " [ 89.75862069  93.17241379]\n",
      " [ 96.5862069  100.        ]]\n"
     ]
    }
   ],
   "source": [
    "import numpy as np\n",
    "n6=np.linspace(1,100,30).reshape(15,2)\n",
    "print(n6)"
   ]
  },
  {
   "cell_type": "code",
   "execution_count": 4,
   "metadata": {},
   "outputs": [
    {
     "name": "stdout",
     "output_type": "stream",
     "text": [
      "[ 1 21 41 61 81]\n"
     ]
    }
   ],
   "source": [
    "n5=np.arange(1,100,20)\n",
    "print(n5)"
   ]
  },
  {
   "cell_type": "code",
   "execution_count": 7,
   "metadata": {},
   "outputs": [
    {
     "data": {
      "text/plain": [
       "array([26, 91, 10, 23, 97, 34,  6,  7, 35,  2])"
      ]
     },
     "execution_count": 7,
     "metadata": {},
     "output_type": "execute_result"
    }
   ],
   "source": [
    "np.random.randint(1,100,10)"
   ]
  },
  {
   "cell_type": "code",
   "execution_count": 10,
   "metadata": {},
   "outputs": [
    {
     "name": "stdout",
     "output_type": "stream",
     "text": [
      "[[6 4 4]\n",
      " [3 3 8]\n",
      " [7 8 3]]\n"
     ]
    }
   ],
   "source": [
    "ne=np.random.randint(0,9,(3,3))\n",
    "print(ne)"
   ]
  },
  {
   "cell_type": "code",
   "execution_count": 21,
   "metadata": {},
   "outputs": [
    {
     "data": {
      "text/plain": [
       "array([[ 2, 72, 60, 49, 67, 35, 12, 18,  5, 32],\n",
       "       [41, 11, 26, 86, 87,  6, 68, 78, 76, 14],\n",
       "       [31, 42, 63, 36, 88, 98, 90, 77, 21, 23],\n",
       "       [97, 91, 24,  4, 94, 13, 81, 56, 20, 16],\n",
       "       [64, 17, 44, 45, 33,  7,  0, 59, 46, 62],\n",
       "       [39, 82, 47, 53, 27, 93, 80, 37, 69, 43],\n",
       "       [84, 73, 51, 19, 25, 83, 28, 30,  1,  3],\n",
       "       [54, 79, 57, 71, 85,  9, 65, 66, 89, 15],\n",
       "       [95, 40, 99, 29, 74, 52, 92, 22,  8, 96],\n",
       "       [58, 70, 50, 61, 55, 75, 10, 34, 48, 38]])"
      ]
     },
     "execution_count": 21,
     "metadata": {},
     "output_type": "execute_result"
    }
   ],
   "source": [
    "np.random.permutation(100).reshape(10,10)"
   ]
  },
  {
   "cell_type": "code",
   "execution_count": 16,
   "metadata": {},
   "outputs": [
    {
     "data": {
      "text/plain": [
       "array([[1, 0, 0, 0, 0, 0, 0, 0, 0, 0],\n",
       "       [0, 1, 0, 0, 0, 0, 0, 0, 0, 0],\n",
       "       [0, 0, 1, 0, 0, 0, 0, 0, 0, 0],\n",
       "       [0, 0, 0, 1, 0, 0, 0, 0, 0, 0],\n",
       "       [0, 0, 0, 0, 1, 0, 0, 0, 0, 0],\n",
       "       [0, 0, 0, 0, 0, 1, 0, 0, 0, 0],\n",
       "       [0, 0, 0, 0, 0, 0, 1, 0, 0, 0],\n",
       "       [0, 0, 0, 0, 0, 0, 0, 1, 0, 0],\n",
       "       [0, 0, 0, 0, 0, 0, 0, 0, 1, 0],\n",
       "       [0, 0, 0, 0, 0, 0, 0, 0, 0, 1]])"
      ]
     },
     "execution_count": 16,
     "metadata": {},
     "output_type": "execute_result"
    }
   ],
   "source": [
    "np.eye(10,dtype=int)"
   ]
  },
  {
   "cell_type": "code",
   "execution_count": 27,
   "metadata": {},
   "outputs": [
    {
     "name": "stdout",
     "output_type": "stream",
     "text": [
      "[5 7 9]\n",
      "[-3 -3 -3]\n",
      "[ 4 10 18]\n",
      "[0.25 0.4  0.5 ]\n",
      "[1 2 3]\n",
      "[0 0 0]\n",
      "32\n",
      "[-3  6 -3]\n",
      "32\n",
      "[[ 4  5  6]\n",
      " [ 8 10 12]\n",
      " [12 15 18]]\n",
      "32\n"
     ]
    }
   ],
   "source": [
    "x=np.array([1,2,3])\n",
    "y=np.array([4,5,6])\n",
    "print(x+y)\n",
    "print(x-y)\n",
    "print(x*y)\n",
    "print(x/y)\n",
    "print(x%y)\n",
    "print(x//y)\n",
    "print(np.dot(x,y))\n",
    "print(np.cross(x,y))\n",
    "print(np.inner(x,y))\n",
    "print(np.outer(x,y))\n",
    "print(np.matmul(x,y))\n",
    "\n"
   ]
  },
  {
   "cell_type": "code",
   "execution_count": 28,
   "metadata": {},
   "outputs": [
    {
     "name": "stdout",
     "output_type": "stream",
     "text": [
      "36\n",
      "4.5\n",
      "2.29128784747792\n",
      "5.25\n",
      "1\n",
      "8\n",
      "0\n",
      "7\n",
      "[ 1  3  6 10 15 21 28 36]\n",
      "[    1     2     6    24   120   720  5040 40320]\n"
     ]
    }
   ],
   "source": [
    "x=np.array([1,2,3,4,5,6,7,8])\n",
    "print(x.sum())#sum\n",
    "print(x.mean())#mean\n",
    "print(x.std())#standad deviation\n",
    "print(x.var())#variance\n",
    "print(x.min())#minimum\n",
    "print(x.max())#maximum\n",
    "print(x.argmin())#index of minimum\n",
    "print(x.argmax())#index of maximum\n",
    "print(x.cumsum())#cumulative sum\n",
    "print(x.cumprod())# cumilative product"
   ]
  },
  {
   "cell_type": "code",
   "execution_count": 31,
   "metadata": {},
   "outputs": [
    {
     "name": "stdout",
     "output_type": "stream",
     "text": [
      "[ 0.         -0.98803162  0.85090352 -0.30481062  0.89399666]\n",
      "[ 1.          0.15425145  0.52532199 -0.95241298 -0.44807362]\n",
      "[ 0.         -6.4053312   1.61977519  0.32004039 -1.99520041]\n",
      "[0.         0.52359878 0.78539816 1.04719755 1.57079633]\n"
     ]
    }
   ],
   "source": [
    "x=np.array([0,30,45,60,90])\n",
    "print(np.sin(x))\n",
    "print(np.cos(x))\n",
    "print(np.tan(x))\n",
    "print(np.deg2rad(x))"
   ]
  },
  {
   "cell_type": "code",
   "execution_count": 41,
   "metadata": {},
   "outputs": [
    {
     "name": "stdout",
     "output_type": "stream",
     "text": [
      "[[ 0  1  2  3  4  5  6  7  8  9]\n",
      " [10 11 12 13 14 15 16 17 18 19]\n",
      " [20 21 22 23 24 25 26 27 28 29]\n",
      " [30 31 32 33 34 35 36 37 38 39]\n",
      " [40 41 42 43 44 45 46 47 48 49]\n",
      " [50 51 52 53 54 55 56 57 58 59]\n",
      " [60 61 62 63 64 65 66 67 68 69]\n",
      " [70 71 72 73 74 75 76 77 78 79]\n",
      " [80 81 82 83 84 85 86 87 88 89]\n",
      " [90 91 92 93 94 95 96 97 98 99]]\n",
      "[0 1 2 3 4 5 6 7 8 9]\n",
      "35\n",
      "[ 0 10 20 30 40 50 60 70 80 90]\n",
      "[ 9 19 29]\n",
      "[ 3 13 23]\n",
      "[[ 2  4  6]\n",
      " [12 14 16]\n",
      " [22 24 26]\n",
      " [32 34 36]\n",
      " [42 44 46]\n",
      " [52 54 56]\n",
      " [62 64 66]\n",
      " [72 74 76]\n",
      " [82 84 86]\n",
      " [92 94 96]]\n"
     ]
    }
   ],
   "source": [
    "x=np.arange(100).reshape(10,10)\n",
    "print(x)\n",
    "print(x[0])#first row\n",
    "print(x[3,5])#element ar row 5 and coloumn 5\n",
    "print(x[:,0])#first column\n",
    "print(x[:3,-1]) #first 3 rows last column\n",
    "print(x[:3,3]) #first 3 rows first 3 columns\n",
    "print(x[:,[2,4,6]])#columns 2,4,6"
   ]
  },
  {
   "cell_type": "code",
   "execution_count": 43,
   "metadata": {},
   "outputs": [
    {
     "data": {
      "text/plain": [
       "nan"
      ]
     },
     "execution_count": 43,
     "metadata": {},
     "output_type": "execute_result"
    }
   ],
   "source": [
    "np.nan #not a number (missing value)"
   ]
  },
  {
   "cell_type": "code",
   "execution_count": 44,
   "metadata": {},
   "outputs": [
    {
     "data": {
      "text/plain": [
       "inf"
      ]
     },
     "execution_count": 44,
     "metadata": {},
     "output_type": "execute_result"
    }
   ],
   "source": [
    "np.inf# infinity"
   ]
  }
 ],
 "metadata": {
  "kernelspec": {
   "display_name": "base",
   "language": "python",
   "name": "python3"
  },
  "language_info": {
   "codemirror_mode": {
    "name": "ipython",
    "version": 3
   },
   "file_extension": ".py",
   "mimetype": "text/x-python",
   "name": "python",
   "nbconvert_exporter": "python",
   "pygments_lexer": "ipython3",
   "version": "3.10.10"
  },
  "orig_nbformat": 4
 },
 "nbformat": 4,
 "nbformat_minor": 2
}
